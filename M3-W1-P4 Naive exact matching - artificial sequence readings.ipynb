{
 "cells": [
  {
   "cell_type": "code",
   "execution_count": null,
   "id": "f237e52e-f53e-4fce-bd28-043f9b2612a9",
   "metadata": {},
   "outputs": [],
   "source": [
    "# Naive exact matching alghoritm to match artificial reads to a reference genome"
   ]
  },
  {
   "cell_type": "code",
   "execution_count": null,
   "id": "8ae38c43-ef6c-4c92-bfcb-3b1069f4524b",
   "metadata": {},
   "outputs": [],
   "source": [
    "# Download the genome for PhiX organism by typing the following in the Ubuntu terminal\n",
    "# Doc 'phix.fa'\n",
    "# wget http://d28rh4a8wq0iu5.cloudfront.net/ads1/data/phix.fa "
   ]
  },
  {
   "cell_type": "code",
   "execution_count": 2,
   "id": "2f39c2ab-1baf-4d77-80e5-6bf6ec6c2ee0",
   "metadata": {},
   "outputs": [],
   "source": [
    "def readGenome(filename):\n",
    "    genome = ''\n",
    "    with open(filename, 'r') as f:\n",
    "        for line in f:\n",
    "            # ignore header line with genome information\n",
    "            if not line[0] == '>':\n",
    "                genome += line.rstrip()\n",
    "    return genome"
   ]
  },
  {
   "cell_type": "code",
   "execution_count": 1,
   "id": "4d3480d1-f9d2-4339-a7dc-8bc1bafa399c",
   "metadata": {},
   "outputs": [
    {
     "ename": "NameError",
     "evalue": "name 'readGenome' is not defined",
     "output_type": "error",
     "traceback": [
      "\u001b[0;31m---------------------------------------------------------------------------\u001b[0m",
      "\u001b[0;31mNameError\u001b[0m                                 Traceback (most recent call last)",
      "Input \u001b[0;32mIn [1]\u001b[0m, in \u001b[0;36m<cell line: 1>\u001b[0;34m()\u001b[0m\n\u001b[0;32m----> 1\u001b[0m genome \u001b[38;5;241m=\u001b[39m \u001b[43mreadGenome\u001b[49m(\u001b[38;5;124m'\u001b[39m\u001b[38;5;124mlambda_virus.fa\u001b[39m\u001b[38;5;124m'\u001b[39m)\n",
      "\u001b[0;31mNameError\u001b[0m: name 'readGenome' is not defined"
     ]
    }
   ],
   "source": [
    "genome = readGenome('lambda_virus.fa')"
   ]
  },
  {
   "cell_type": "code",
   "execution_count": 2,
   "id": "3c1166cb-0e26-47ab-93ec-523ed3615997",
   "metadata": {},
   "outputs": [],
   "source": [
    "def naive(p, t):\n",
    "    occurrences = []\n",
    "    for i in range(len(t) - len(p) + 1):\n",
    "        match = True\n",
    "        for j in range(len(p)):\n",
    "            if t[i+j] != p[j]:\n",
    "                match = False\n",
    "                break\n",
    "        if match:\n",
    "          occurrences.append(i)\n",
    "    return occurrences\n"
   ]
  },
  {
   "cell_type": "code",
   "execution_count": 9,
   "id": "6c6cbaa9-962d-4196-bca6-725f48ef0f79",
   "metadata": {},
   "outputs": [
    {
     "data": {
      "text/plain": [
       "[0, 5, 9]"
      ]
     },
     "execution_count": 9,
     "metadata": {},
     "output_type": "execute_result"
    }
   ],
   "source": [
    "#test function\n",
    "t = 'AGCTTAGATAGC'\n",
    "p = 'AG'\n",
    "naive(p, t)"
   ]
  },
  {
   "cell_type": "code",
   "execution_count": 5,
   "id": "4354e1fe-bad0-4b53-8e08-9c578550fbac",
   "metadata": {},
   "outputs": [
    {
     "data": {
      "text/plain": [
       "'AG'"
      ]
     },
     "execution_count": 5,
     "metadata": {},
     "output_type": "execute_result"
    }
   ],
   "source": [
    "t[0:2]"
   ]
  },
  {
   "cell_type": "code",
   "execution_count": 6,
   "id": "65584dab-d2da-407b-9326-84e1b45f42c3",
   "metadata": {},
   "outputs": [
    {
     "data": {
      "text/plain": [
       "'AG'"
      ]
     },
     "execution_count": 6,
     "metadata": {},
     "output_type": "execute_result"
    }
   ],
   "source": [
    "t[5:7]"
   ]
  },
  {
   "cell_type": "code",
   "execution_count": null,
   "id": "bf0df634-22a7-4d20-8829-f3d90d3e757f",
   "metadata": {},
   "outputs": [
    {
     "data": {
      "text/plain": [
       "'AG'"
      ]
     },
     "execution_count": 7,
     "metadata": {},
     "output_type": "execute_result"
    }
   ],
   "source": [
    "t[9:11]"
   ]
  },
  {
   "cell_type": "code",
   "execution_count": 10,
   "id": "de145547-d351-4c09-92ec-9d30b88adf45",
   "metadata": {},
   "outputs": [],
   "source": [
    "#Generate random artificial reads from the given genome\n",
    "#Takes sequences from the genome string from random positions\n",
    "import random\n",
    "def generateReads(genome, numReads, readLen):\n",
    "    reads = []\n",
    "    for _ in range(numReads):\n",
    "        start = random.randint(0, len(genome)-readLen) - 1\n",
    "        reads.append(genome[start : start+readLen])\n",
    "    return reads"
   ]
  },
  {
   "cell_type": "code",
   "execution_count": 11,
   "id": "bbe92cca-915c-4dda-a431-8fccb14c9153",
   "metadata": {},
   "outputs": [
    {
     "name": "stdout",
     "output_type": "stream",
     "text": [
      "100 / 100 reads matched the genome exactly!\n"
     ]
    }
   ],
   "source": [
    "# Generate 100 reads of length 100\n",
    "reads = generateReads(genome, 100, 100)\n",
    "\n",
    "# Count how many reads match the given genome exactly\n",
    "#Since they are artificially generated above, and there are no sequences errors or mutations, they should all match exactly\n",
    "numMatched = 0\n",
    "for r in reads:\n",
    "    matches = naive(r, genome)\n",
    "    if len(matches) > 0:\n",
    "        numMatched += 1\n",
    "print('%d / %d reads matched the genome exactly!' % (numMatched, len(reads)))"
   ]
  }
 ],
 "metadata": {
  "kernelspec": {
   "display_name": "Python 3 (ipykernel)",
   "language": "python",
   "name": "python3"
  },
  "language_info": {
   "codemirror_mode": {
    "name": "ipython",
    "version": 3
   },
   "file_extension": ".py",
   "mimetype": "text/x-python",
   "name": "python",
   "nbconvert_exporter": "python",
   "pygments_lexer": "ipython3",
   "version": "3.9.12"
  }
 },
 "nbformat": 4,
 "nbformat_minor": 5
}
