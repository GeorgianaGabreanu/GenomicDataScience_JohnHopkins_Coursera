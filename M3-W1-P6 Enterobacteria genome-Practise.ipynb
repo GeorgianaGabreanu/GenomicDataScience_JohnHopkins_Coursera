{
 "cells": [
  {
   "cell_type": "code",
   "execution_count": null,
   "id": "e3d8cc9c-9511-41cf-9cee-f25c5c722ef5",
   "metadata": {},
   "outputs": [],
   "source": [
    "# Download and parse Enterobacteria phage lambda genome miniproject\n"
   ]
  },
  {
   "cell_type": "code",
   "execution_count": null,
   "id": "a2868d20-7142-4066-b90f-5734e44c166f",
   "metadata": {},
   "outputs": [],
   "source": [
    "# Download the FASTA file \n",
    "\n",
    "# For download run in Ubuntu Terminal (WSL) wget https://d28rh4a8wq0iu5.cloudfront.net/ads1/data/lambda_virus.fa\n",
    "\n",
    "# As an alternative run in python file !wget --no--check https://d28rh4a8wq0iu5.cloudfront.net/ads1/data/lambda_virus.fa"
   ]
  },
  {
   "cell_type": "code",
   "execution_count": 53,
   "id": "c240c5e7-5168-4eca-9b9b-48b4db2e7c3f",
   "metadata": {},
   "outputs": [],
   "source": [
    "# Read the genome\n",
    "def readGenome(filename):\n",
    "    genome = ''\n",
    "    with open(filename, 'r') as f:\n",
    "        for line in f:\n",
    "            # ignore header line with genome information\n",
    "            if not line[0] == '>':\n",
    "                genome += line.rstrip()\n",
    "    return genome"
   ]
  },
  {
   "cell_type": "code",
   "execution_count": 54,
   "id": "78ba0289-bc75-4955-ac71-7971b2f3120c",
   "metadata": {},
   "outputs": [],
   "source": [
    "genome = readGenome('lambda_virus.fa')"
   ]
  },
  {
   "cell_type": "code",
   "execution_count": 57,
   "id": "5cdd267a-dad8-4134-9e9c-05aad81124ad",
   "metadata": {},
   "outputs": [],
   "source": [
    "#reverse complement\n",
    "def reverseComplement(s):\n",
    "    complement = {'A': 'T', 'C': 'G', 'G': 'C', 'T': 'A', 'N': 'N'}\n",
    "    t = ''\n",
    "    for base in s:\n",
    "        t = complement[base] + t\n",
    "    return t"
   ]
  },
  {
   "cell_type": "code",
   "execution_count": 56,
   "id": "4a930a06-9cd1-4777-a524-5fc15b5586d8",
   "metadata": {},
   "outputs": [],
   "source": [
    "def naive_with_rc(p, t):\n",
    "    p_rev = reverseComplement(p)\n",
    "    occurrences = []\n",
    "    for i in range(len(t) - len(p) + 1):  # loop over alignments\n",
    "        match = True\n",
    "        for j in range(len(p)):  # loop over characters\n",
    "            if t[i+j] != p[j]:  # compare characters\n",
    "                match = False\n",
    "                break\n",
    "        if not match:\n",
    "            match = True\n",
    "            for j in range(len(p)):  # loop over characters\n",
    "                if t[i + j] != p_rev[j]:  # compare characters\n",
    "                    match = False\n",
    "                    break\n",
    "        if match:\n",
    "            occurrences.append(i)  # all chars matched; record\n",
    "    return occurrences"
   ]
  },
  {
   "cell_type": "code",
   "execution_count": null,
   "id": "20061d26-b1ab-4284-8457-7abc5be9c3cb",
   "metadata": {},
   "outputs": [],
   "source": []
  }
 ],
 "metadata": {
  "kernelspec": {
   "display_name": "Python 3 (ipykernel)",
   "language": "python",
   "name": "python3"
  },
  "language_info": {
   "codemirror_mode": {
    "name": "ipython",
    "version": 3
   },
   "file_extension": ".py",
   "mimetype": "text/x-python",
   "name": "python",
   "nbconvert_exporter": "python",
   "pygments_lexer": "ipython3",
   "version": "3.9.12"
  }
 },
 "nbformat": 4,
 "nbformat_minor": 5
}
