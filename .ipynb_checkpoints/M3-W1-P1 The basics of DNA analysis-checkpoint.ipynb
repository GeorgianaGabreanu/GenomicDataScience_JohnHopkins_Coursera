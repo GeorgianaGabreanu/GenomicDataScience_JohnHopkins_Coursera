{
 "cells": [
  {
   "cell_type": "code",
   "execution_count": 5,
   "id": "ea4e44dc-2ef1-4b17-a03f-2e0b4b04f50d",
   "metadata": {
    "tags": []
   },
   "outputs": [
    {
     "name": "stdout",
     "output_type": "stream",
     "text": [
      "Hello. This is a demonstration of the most basic commands for DNA analysis. We will use Jupyter Lab to write our code and notes.\n"
     ]
    }
   ],
   "source": [
    "# Start with a basic print function to greet the reader.  \n",
    "print(\"Hello. This is a demonstration of the most basic commands for DNA analysis. We will use Jupyter Lab to write our code and notes.\")"
   ]
  },
  {
   "cell_type": "code",
   "execution_count": 99,
   "id": "9a6592f4-6b01-4537-a05d-7ded7785d7e2",
   "metadata": {
    "tags": []
   },
   "outputs": [
    {
     "name": "stdout",
     "output_type": "stream",
     "text": [
      "ACGTGGTTAGCTTAAACGT\n",
      "We have defined a short DNA seq with the following letters: ACGTGGTTAGCTTAAACGT\n"
     ]
    }
   ],
   "source": [
    "# define a new string and print the outcome \n",
    "seq = \"ACGTGGTTAGCTTAAACGT\"\n",
    "print(seq)\n",
    "print(\"We have defined a short DNA seq with the following letters: \" + seq)"
   ]
  },
  {
   "cell_type": "code",
   "execution_count": 61,
   "id": "ba2a7ed5-bb23-4d7d-961d-b5d6f727017c",
   "metadata": {},
   "outputs": [
    {
     "name": "stdout",
     "output_type": "stream",
     "text": [
      "T\n"
     ]
    }
   ],
   "source": [
    "# Extract the nucleotide in seq variable that is located at index 6 - As Python starts counting with index 0, seq index 6 means actually the seventh nucleotide.\n",
    "nucleotide = seq[6]\n",
    "print(nucleotide)"
   ]
  },
  {
   "cell_type": "code",
   "execution_count": 69,
   "id": "0c7a1419-4b3f-4792-928f-f8b3e02cab73",
   "metadata": {},
   "outputs": [
    {
     "name": "stdout",
     "output_type": "stream",
     "text": [
      "19\n",
      "T\n"
     ]
    }
   ],
   "source": [
    "# Count the number of nucleotides in seq\n",
    "countSeq = len(seq)\n",
    "print(countSeq)\n",
    "# because python starts counting at 0, it means the last element will be located at index len(seq)-1, in this case index 19-1=18\n",
    "print(seq[18])"
   ]
  },
  {
   "cell_type": "code",
   "execution_count": 96,
   "id": "e2e9795a-80d1-4eb3-91ae-daf8f5b6cfa4",
   "metadata": {},
   "outputs": [
    {
     "name": "stdout",
     "output_type": "stream",
     "text": [
      "The seq is ACGTGGTTAGCTTAAACGT\n",
      "The first four nucleotides are ACGT\n",
      "The first two nucleotides are AC\n",
      "The first six nucleotides are ACGTGG\n"
     ]
    }
   ],
   "source": [
    "# extract the prefix of the seq - starting with 0 index - located at the beggining of the string\n",
    "print(\"The seq is \" + seq)\n",
    "print(\"The first four nucleotides are \" + seq[0:4])\n",
    "print(\"The first two nucleotides are \" + seq[0:2])\n",
    "print(\"The first six nucleotides are \" + seq[0:6])"
   ]
  },
  {
   "cell_type": "code",
   "execution_count": 90,
   "id": "0fe1dda8-6b42-4e01-b1ef-49ee275862e3",
   "metadata": {},
   "outputs": [
    {
     "name": "stdout",
     "output_type": "stream",
     "text": [
      "The seq is ACGTGGTTAGCTTAAACGT\n",
      "CG\n",
      "CGT\n",
      "CGT\n",
      "C\n",
      "CGT\n"
     ]
    }
   ],
   "source": [
    "# extract nucleotides from index 1 to index 3 (not including index three - this means we will have two nucleotides)\n",
    "print(\"The seq is \" + seq)\n",
    "print(seq[1:3])"
   ]
  },
  {
   "cell_type": "code",
   "execution_count": 93,
   "id": "5e39aa42-7b2c-4d85-88a3-d2f2e0686e93",
   "metadata": {},
   "outputs": [
    {
     "name": "stdout",
     "output_type": "stream",
     "text": [
      "The seq is ACGTGGTTAGCTTAAACGT\n",
      "CGT\n",
      "CGT\n"
     ]
    }
   ],
   "source": [
    "# extract the suffix of the seq - located at the end of the string\n",
    "print(\"The seq is \" + seq)\n",
    "print(seq[16:len(seq)])\n",
    "print(seq[16:])"
   ]
  },
  {
   "cell_type": "code",
   "execution_count": 97,
   "id": "dcf4e300-9f6c-4c04-9e25-c51aca8889cc",
   "metadata": {},
   "outputs": [
    {
     "name": "stdout",
     "output_type": "stream",
     "text": [
      "The seq is ACGTGGTTAGCTTAAACGT\n",
      "C\n",
      "CGT\n"
     ]
    }
   ],
   "source": [
    "# extract with negative integers to start counting at the end of the string\n",
    "print(\"The seq is \" + seq)\n",
    "print(seq[-3])\n",
    "print(seq[-3:])"
   ]
  },
  {
   "cell_type": "code",
   "execution_count": 98,
   "id": "31c10601-fff7-4927-b81e-3e426719f065",
   "metadata": {},
   "outputs": [
    {
     "name": "stdout",
     "output_type": "stream",
     "text": [
      "0\n"
     ]
    }
   ],
   "source": [
    "# Define an empty string, and verify the count of nucleotides found - obviously it will be zero\n",
    "empty=(\"\")\n",
    "print(len(empty))"
   ]
  },
  {
   "cell_type": "code",
   "execution_count": 84,
   "id": "05350607-ed9c-4c5c-a150-448d65463555",
   "metadata": {},
   "outputs": [
    {
     "name": "stdout",
     "output_type": "stream",
     "text": [
      "GCTACCTATTGC\n"
     ]
    }
   ],
   "source": [
    "# Concatenate two DNA strings:\n",
    "seq1 = \"GCTACCTA\"\n",
    "seq2 = \"TTGC\"\n",
    "print(seq1+seq2)"
   ]
  },
  {
   "cell_type": "code",
   "execution_count": 85,
   "id": "58bdd10b-da36-4e26-b036-2ce2b50f9bb6",
   "metadata": {},
   "outputs": [
    {
     "name": "stdout",
     "output_type": "stream",
     "text": [
      "ATCG\n",
      "A-T-C-G\n",
      "A*T*C*G\n",
      "A/T/C/G\n",
      "A,T,C,G\n"
     ]
    }
   ],
   "source": [
    "# Concatenate lists with join function. \n",
    "seqs = [\"A\", \"T\", \"C\", \"G\"]\n",
    "# Before calling the function, specify the separator you want between the quotation marks. \n",
    "# It can be empty, like in the example below.\n",
    "print(\"\".join(seqs))\n",
    "# As an alternative, choose any other separator you need, as in the example below:\n",
    "print(\"-\".join(seqs))\n",
    "print(\"*\".join(seqs))\n",
    "print(\"/\".join(seqs))\n",
    "print(\",\".join(seqs))"
   ]
  },
  {
   "cell_type": "code",
   "execution_count": 86,
   "id": "8a0227cf-9cf6-472c-bda1-bc997eb9d8fe",
   "metadata": {},
   "outputs": [
    {
     "data": {
      "text/plain": [
       "'C'"
      ]
     },
     "execution_count": 86,
     "metadata": {},
     "output_type": "execute_result"
    }
   ],
   "source": [
    "# Generate random nucleotides. Here you need to import random package. Every time you run this code, another nucleotide from the list will be shown.\n",
    "import random\n",
    "#if you need the same behaviour every time, you can use random.seed followed by any integer, like in the example below. \n",
    "# random.seed(7) /// If this line of code is added, the same nucleotide will be generated, but for the purpose of this exercise, we are not using it.\n",
    "random.choice(\"ACGT\")\n"
   ]
  },
  {
   "cell_type": "code",
   "execution_count": 87,
   "id": "9827f9a8-4830-4942-bb84-cf9316600d53",
   "metadata": {},
   "outputs": [
    {
     "name": "stdout",
     "output_type": "stream",
     "text": [
      " AGCGCGGTCA\n"
     ]
    }
   ],
   "source": [
    "# Populate an empty string with random nucleotides generated thru a basic loop function\n",
    "# the underscore in the loop function means the index of the iteration is not important on this occasion, that number does't need to be saved in a variable.\n",
    "# if the iteration number is important, you can use 'for i in range(10)' - loops from 0 up to 9\n",
    "randomSeq1 = \" \"\n",
    "for _ in range(10):\n",
    "    randomSeq1  += random.choice(\"ACGT\")\n",
    "print(randomSeq1)"
   ]
  },
  {
   "cell_type": "code",
   "execution_count": 57,
   "id": "12ddba9f-a195-47c2-b9a4-b74a68330433",
   "metadata": {},
   "outputs": [
    {
     "name": "stdout",
     "output_type": "stream",
     "text": [
      "['T', 'T', 'A', 'C', 'C', 'C', 'A', 'C', 'T', 'C']\n",
      "T T A C C C A C T C\n",
      "T G C C A A A C T C\n"
     ]
    }
   ],
   "source": [
    "# Another way to populate an empty string is with join function\n",
    "# First generate a list with random nucleotides\n",
    "randomSeq2 = [random.choice(\"ACGT\") for _ in range(10)]\n",
    "print(randomSeq2)\n",
    "# Then join them in one variable, without any separator in between. \n",
    "newSeq = ' '.join(randomSeq2)\n",
    "print(newSeq)\n",
    "# Once you understand the main blocks of code, alternatively you can compile all the code lines in just one line like following:\n",
    "print(' '.join([random.choice(\"ACGT\") for _ in range(10)]))"
   ]
  },
  {
   "cell_type": "code",
   "execution_count": 124,
   "id": "3bc14062-5f54-41bd-a81b-d7e5cf2fa1f6",
   "metadata": {},
   "outputs": [
    {
     "data": {
      "text/plain": [
       "'ACCA'"
      ]
     },
     "execution_count": 124,
     "metadata": {},
     "output_type": "execute_result"
    }
   ],
   "source": [
    "# find the longest common prefix between two strings\n",
    "# indentation is important in Python\n",
    "# create a function and pass the two strings as arguments \n",
    "# def function_name(s1, s2):\n",
    "\n",
    "def longestCommonPrefix (s1, s2):\n",
    "    i = 0\n",
    "    while i < len(s1) and i < len(s2) and s1[i] == s2[i]:\n",
    "        i += 1\n",
    "    return s1[:i]\n",
    "longestCommonPrefix ('ACCATGT', 'ACCAGAC')"
   ]
  },
  {
   "cell_type": "code",
   "execution_count": null,
   "id": "14dabb73-3d2b-4db1-92c5-e565cbdb7b44",
   "metadata": {},
   "outputs": [],
   "source": [
    "# Important!!!!! indentation is important in Python \n",
    "\n",
    "#this works \n",
    "def longestCommonPrefix (s1, s2):\n",
    "    i = 0\n",
    "    while i < len(s1) and i < len(s2) and s1[i] == s2[i]:\n",
    "        i += 1\n",
    "    return s1[:i]\n",
    "longestCommonPrefix ('ACCATGT', 'ACCAGAC')\n",
    "\n",
    "#this doesn't work properly - can you see the difference at the return line code? \n",
    "def longestCommonPrefix (s1, s2):\n",
    "    i = 0\n",
    "    while i < len(s1) and i < len(s2) and s1[i] == s2[i]:\n",
    "        i += 1\n",
    "        return s1[:i] #with the return line indented here, the code stops after the first element verified, without incrementing further. \n",
    "#The function doesn't return the expected outcome because of the incorrect indentation\n",
    "longestCommonPrefix ('ACCATGT', 'ACCAGAC')"
   ]
  },
  {
   "cell_type": "code",
   "execution_count": 130,
   "id": "e32bfce5-6bde-4e0d-a9b2-3c54a12ca771",
   "metadata": {},
   "outputs": [
    {
     "data": {
      "text/plain": [
       "True"
      ]
     },
     "execution_count": 130,
     "metadata": {},
     "output_type": "execute_result"
    }
   ],
   "source": [
    "# write a function to see if two strings match exactly\n",
    "def match (s1,s2):\n",
    "    # if the two strings are not the same lenghts, they definitly can't be a match, so imediatly return False\n",
    "    if not len(s1) == len(s2):\n",
    "        return False\n",
    "    #otherwise loop through the strings to make sure all the characters are the same\n",
    "    for i in range(len(s1)):\n",
    "        if not s1[i] == s2[i]:\n",
    "            return False\n",
    "    #after finishing the loop, if it doesn't return false, it must mean than the characters are matching between the two strings\n",
    "    return True\n",
    "match ('ACG', 'ACG')"
   ]
  },
  {
   "cell_type": "code",
   "execution_count": 129,
   "id": "a9d683e3-8330-4513-8949-ad70e7b32ae3",
   "metadata": {},
   "outputs": [
    {
     "data": {
      "text/plain": [
       "False"
      ]
     },
     "execution_count": 129,
     "metadata": {},
     "output_type": "execute_result"
    }
   ],
   "source": [
    "#Test the match function with another two strings\n",
    "match ('ATGCCGGT', 'ACT')"
   ]
  },
  {
   "cell_type": "code",
   "execution_count": 132,
   "id": "c8ab947e-a3f0-46fd-a705-f540d8b235bc",
   "metadata": {},
   "outputs": [
    {
     "data": {
      "text/plain": [
       "True"
      ]
     },
     "execution_count": 132,
     "metadata": {},
     "output_type": "execute_result"
    }
   ],
   "source": [
    "# build in method to test if two strings are matching\n",
    "'ACG' == 'ACG'"
   ]
  },
  {
   "cell_type": "code",
   "execution_count": 134,
   "id": "6f9bc9f5-03f9-4e98-a488-f02172e85794",
   "metadata": {},
   "outputs": [
    {
     "data": {
      "text/plain": [
       "False"
      ]
     },
     "execution_count": 134,
     "metadata": {},
     "output_type": "execute_result"
    }
   ],
   "source": [
    "# build in method to test if two strings are matching\n",
    "'ATGCCGGT' == 'ACT'"
   ]
  },
  {
   "cell_type": "code",
   "execution_count": 139,
   "id": "319cd695-efce-4820-bd81-1b6450a95d1e",
   "metadata": {},
   "outputs": [
    {
     "data": {
      "text/plain": [
       "'T'"
      ]
     },
     "execution_count": 139,
     "metadata": {},
     "output_type": "execute_result"
    }
   ],
   "source": [
    "# We will write a function to get the reverse complement of a DNA strand\n",
    "# First create a dictionary with curly braces instead of square brackets, a dictionary is basically an associative array to associate each DNA base with its complementary base\n",
    "\n",
    "complement = {'A':'T', 'C':'G', 'G':'C', 'T':'A'}\n",
    "complement['A']"
   ]
  },
  {
   "cell_type": "code",
   "execution_count": 138,
   "id": "58fdd12b-a48f-4b5d-bcca-1ef2040433dc",
   "metadata": {},
   "outputs": [
    {
     "data": {
      "text/plain": [
       "'C'"
      ]
     },
     "execution_count": 138,
     "metadata": {},
     "output_type": "execute_result"
    }
   ],
   "source": [
    "#another test of the dictionary\n",
    "complement['G']"
   ]
  },
  {
   "cell_type": "code",
   "execution_count": 143,
   "id": "ad3ed41c-13e1-4a94-aec0-81ca8246bed1",
   "metadata": {},
   "outputs": [
    {
     "data": {
      "text/plain": [
       "'GTCGA '"
      ]
     },
     "execution_count": 143,
     "metadata": {},
     "output_type": "execute_result"
    }
   ],
   "source": [
    "# Write a function to get the reverse complement of a DNA strand, we will use the dictionary mentioned earlier\n",
    "# the function adds the complement associate base at the beginning of the list because we read one sequence from top to bottom and the other sequence from bottom to top\n",
    "def reverseComplement(s):\n",
    "    complement = {'A':'T', 'C':'G', 'G':'C', 'T':'A'}\n",
    "    t = ' '\n",
    "    for base in s: \n",
    "        t = complement[base] + t\n",
    "    return t\n",
    "reverseComplement('TCGAC') "
   ]
  },
  {
   "cell_type": "code",
   "execution_count": null,
   "id": "338fd164-8661-4a1a-bdfd-41eb122331bc",
   "metadata": {},
   "outputs": [],
   "source": []
  }
 ],
 "metadata": {
  "kernelspec": {
   "display_name": "Python 3 (ipykernel)",
   "language": "python",
   "name": "python3"
  },
  "language_info": {
   "codemirror_mode": {
    "name": "ipython",
    "version": 3
   },
   "file_extension": ".py",
   "mimetype": "text/x-python",
   "name": "python",
   "nbconvert_exporter": "python",
   "pygments_lexer": "ipython3",
   "version": "3.9.12"
  }
 },
 "nbformat": 4,
 "nbformat_minor": 5
}
