{
 "cells": [
  {
   "cell_type": "code",
   "execution_count": null,
   "id": "e3d8cc9c-9511-41cf-9cee-f25c5c722ef5",
   "metadata": {},
   "outputs": [],
   "source": [
    "# Download and parse Enterobacteria phage lambda genome miniproject\n"
   ]
  },
  {
   "cell_type": "code",
   "execution_count": null,
   "id": "a2868d20-7142-4066-b90f-5734e44c166f",
   "metadata": {},
   "outputs": [],
   "source": [
    "# Download the FASTA file \n",
    "\n",
    "# For download run in Ubuntu Terminal (WSL) wget https://d28rh4a8wq0iu5.cloudfront.net/ads1/data/lambda_virus.fa\n",
    "\n",
    "# As an alternative run in python file !wget --no--check https://d28rh4a8wq0iu5.cloudfront.net/ads1/data/lambda_virus.fa"
   ]
  },
  {
   "cell_type": "code",
   "execution_count": 6,
   "id": "3841ed8e-a330-4226-b582-8c62cde68ff2",
   "metadata": {},
   "outputs": [
    {
     "data": {
      "text/plain": [
       "'GGGCGGCGACCTCGCGGGTTTTCGCTATTTATGAAAATTTTCCGGTTTAAGGCGTTTCCGTTCTTCTTCGTCATAACTTAATGTTTTTATTTAAAATACC'"
      ]
     },
     "execution_count": 6,
     "metadata": {},
     "output_type": "execute_result"
    }
   ],
   "source": [
    "# write a function to read a genome from the FASTA file\n",
    "def readGenome (filename):\n",
    "    genome = ''\n",
    "    #add each line of bases to the empty string set above\n",
    "    #to open the file for reading\n",
    "    with open (filename, 'r') as f: \n",
    "        # loop through the lines of this file\n",
    "        # will read the file line by line and store each line of the file in the variable line\n",
    "        for line in f:\n",
    "            # to ignore the first line which starts with an arrow, contains general information, not DNA nucleotides\n",
    "            # if the line doesn't start with an arrow, then it must be a line containing bases\n",
    "            if not line[0] == '>': \n",
    "                # in this case add the line to the genome string\n",
    "                #rstrip removes any trailing white space from the end of the string\n",
    "                #rstrip in this case will trim off the new line at the end, if there are spaces, tabs, any other white space\n",
    "                genome += line.rstrip()\n",
    "    return genome\n",
    "\n",
    "\n",
    "genome = readGenome('lambda_virus.fa')\n",
    "genome[:100]         \n",
    "    "
   ]
  },
  {
   "cell_type": "code",
   "execution_count": 5,
   "id": "789bfb13-558a-4bf4-a897-25654160744a",
   "metadata": {},
   "outputs": [
    {
     "data": {
      "text/plain": [
       "48502"
      ]
     },
     "execution_count": 5,
     "metadata": {},
     "output_type": "execute_result"
    }
   ],
   "source": [
    "len(genome)"
   ]
  },
  {
   "cell_type": "code",
   "execution_count": 7,
   "id": "be304ae4-0eaf-4a1f-abf3-6bef0ff724d2",
   "metadata": {},
   "outputs": [
    {
     "name": "stdout",
     "output_type": "stream",
     "text": [
      "{'A': 12334, 'C': 11362, 'G': 12820, 'T': 11986}\n"
     ]
    }
   ],
   "source": [
    "#Let's count the frequency of each base\n",
    "# We'll create a dictionary, a key for each base and a value for the frequency, the number of times that base occurs\n",
    "# To begin with, initialize each frequency to zero\n",
    "counts = {'A':0, 'C':0, 'G':0, 'T':0}\n",
    "# loop through each base of the genome \n",
    "for base in genome: \n",
    "    #increment the value of that key in our counts dictionary\n",
    "    counts[base] += 1\n",
    "print(counts)\n"
   ]
  },
  {
   "cell_type": "code",
   "execution_count": 8,
   "id": "07a5fee4-4a1b-4f4e-a4ac-6c9d29031833",
   "metadata": {},
   "outputs": [
    {
     "data": {
      "text/plain": [
       "Counter({'G': 12820, 'C': 11362, 'A': 12334, 'T': 11986})"
      ]
     },
     "execution_count": 8,
     "metadata": {},
     "output_type": "execute_result"
    }
   ],
   "source": [
    "# There is an easier way to do this count with the collections package. Let's import that\n",
    "import collections\n",
    "collections.Counter(genome)\n",
    "#returns a Counter object similar to the above dictionary, in just two lines of code"
   ]
  },
  {
   "cell_type": "code",
   "execution_count": null,
   "id": "b7d12a30-4f50-4832-a0a8-c95d5ad10ea4",
   "metadata": {},
   "outputs": [],
   "source": []
  }
 ],
 "metadata": {
  "kernelspec": {
   "display_name": "Python 3 (ipykernel)",
   "language": "python",
   "name": "python3"
  },
  "language_info": {
   "codemirror_mode": {
    "name": "ipython",
    "version": 3
   },
   "file_extension": ".py",
   "mimetype": "text/x-python",
   "name": "python",
   "nbconvert_exporter": "python",
   "pygments_lexer": "ipython3",
   "version": "3.9.12"
  }
 },
 "nbformat": 4,
 "nbformat_minor": 5
}
