{
 "cells": [
  {
   "cell_type": "code",
   "execution_count": 1,
   "id": "2c042ed8-a61a-43ae-a8c8-b64de21c51f0",
   "metadata": {},
   "outputs": [],
   "source": [
    "def overlap(a, b, min_length=3):\n",
    "    \"\"\" Return length of longest suffix of 'a' matching\n",
    "        a prefix of 'b' that is at least 'min_length'\n",
    "        characters long.  If no such overlap exists,\n",
    "        return 0. \"\"\"\n",
    "    start = 0  # start all the way at the left\n",
    "    while True:\n",
    "        start = a.find(b[:min_length], start)  # look for b's suffx in a\n",
    "        if start == -1:  # no more occurrences to right\n",
    "            return 0\n",
    "        # found occurrence; check for full suffix/prefix match\n",
    "        if b.startswith(a[start:]):\n",
    "            return len(a)-start\n",
    "        start += 1  # move just past previous match\n",
    "\n",
    "import itertools\n",
    "\n",
    "def scs(ss):\n",
    "    \"\"\" Returns shortest common superstring of given\n",
    "        strings, which must be the same length \"\"\"\n",
    "    shortest_sup = None\n",
    "    for ssperm in itertools.permutations(ss):\n",
    "        sup = ssperm[0]  # superstring starts as first string\n",
    "        for i in range(len(ss)-1):\n",
    "            # overlap adjacent strings A and B in the permutation\n",
    "            olen = overlap(ssperm[i], ssperm[i+1], min_length=1)\n",
    "            # add non-overlapping portion of B to superstring\n",
    "            sup += ssperm[i+1][olen:]\n",
    "        if shortest_sup is None or len(sup) < len(shortest_sup):\n",
    "            shortest_sup = sup  # found shorter superstring\n",
    "    return shortest_sup  # return shortest"
   ]
  },
  {
   "cell_type": "code",
   "execution_count": 2,
   "id": "25c90561-bd55-4008-bb6e-eb3454ad0624",
   "metadata": {},
   "outputs": [],
   "source": [
    "def revised_scs(ss):\n",
    "    \"\"\" Returns shortest common superstring of given\n",
    "        strings, which must be the same length \"\"\"\n",
    "    shortest_sup = []\n",
    "    for ssperm in itertools.permutations(ss):\n",
    "        sup = ssperm[0]  # superstring starts as first string\n",
    "        for i in range(len(ss)-1):\n",
    "            # overlap adjacent strings A and B in the permutation\n",
    "            olen = overlap(ssperm[i], ssperm[i+1], min_length=1)\n",
    "            # add non-overlapping portion of B to superstring\n",
    "            sup += ssperm[i+1][olen:]\n",
    "        shortest_sup.append(sup)  # found shorter superstring\n",
    "    shortest_len = len(ss) * len(ss[0])\n",
    "    for sup in shortest_sup:\n",
    "        if len(sup) <= shortest_len:\n",
    "            shortest_len = len(sup)\n",
    "    shortest_sup = [sup for sup in shortest_sup if len(sup) == shortest_len]\n",
    "    return list(set(shortest_sup))  # return shortest"
   ]
  },
  {
   "cell_type": "code",
   "execution_count": 3,
   "id": "272dbcde-063d-4ab5-89b4-e3aadcd8521e",
   "metadata": {},
   "outputs": [
    {
     "name": "stdout",
     "output_type": "stream",
     "text": [
      "Length of the shortest common superstring: 11\n",
      "Number of different shortest common superstrings: 4\n"
     ]
    }
   ],
   "source": [
    "# Question 1, 2\n",
    "shortest_sup_list = revised_scs(['CCT', 'CTT', 'TGC', 'TGG', 'GAT', 'ATT'])\n",
    "print(\"Length of the shortest common superstring:\", len(shortest_sup_list[0]))\n",
    "print(\"Number of different shortest common superstrings:\", len(shortest_sup_list))"
   ]
  },
  {
   "cell_type": "code",
   "execution_count": 15,
   "id": "f9a33fae-5f53-461b-9b90-f8bb617a4389",
   "metadata": {},
   "outputs": [
    {
     "name": "stdout",
     "output_type": "stream",
     "text": [
      "--2022-08-15 19:21:01--  https://d28rh4a8wq0iu5.cloudfront.net/ads1/data/ads1_week4_reads.fq\n",
      "Resolving d28rh4a8wq0iu5.cloudfront.net (d28rh4a8wq0iu5.cloudfront.net)... 99.86.105.225, 99.86.105.62, 99.86.105.174, ...\n",
      "Connecting to d28rh4a8wq0iu5.cloudfront.net (d28rh4a8wq0iu5.cloudfront.net)|99.86.105.225|:443... connected.\n",
      "HTTP request sent, awaiting response... 200 OK\n",
      "Length: 395781 (387K) [video/m2ts]\n",
      "Saving to: ‘ads1_week4_reads.fq.4’\n",
      "\n",
      "ads1_week4_reads.fq 100%[===================>] 386.50K  --.-KB/s    in 0.08s   \n",
      "\n",
      "2022-08-15 19:21:01 (4.75 MB/s) - ‘ads1_week4_reads.fq.4’ saved [395781/395781]\n",
      "\n"
     ]
    }
   ],
   "source": [
    "!wget https://d28rh4a8wq0iu5.cloudfront.net/ads1/data/ads1_week4_reads.fq\n"
   ]
  }
 ],
 "metadata": {
  "kernelspec": {
   "display_name": "Python 3 (ipykernel)",
   "language": "python",
   "name": "python3"
  },
  "language_info": {
   "codemirror_mode": {
    "name": "ipython",
    "version": 3
   },
   "file_extension": ".py",
   "mimetype": "text/x-python",
   "name": "python",
   "nbconvert_exporter": "python",
   "pygments_lexer": "ipython3",
   "version": "3.9.12"
  }
 },
 "nbformat": 4,
 "nbformat_minor": 5
}
