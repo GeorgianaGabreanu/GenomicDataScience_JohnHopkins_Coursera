{
 "cells": [
  {
   "cell_type": "code",
   "execution_count": null,
   "id": "a4862f9f-942e-482d-bd7e-965582bf3e15",
   "metadata": {},
   "outputs": [],
   "source": [
    "#First, implement a version of the naive exact matching algorithm that is strand-aware. \n",
    "#That is, instead of looking only for occurrences of P in T, additionally look for occurrences of thereverse complement of P in T. \n",
    "#If P is ACT, your function should find occurrences of both ACTand its reverse complement AGT in T.\n",
    "\n",
    "If P and its reverse complement are identical (e.g. AACGTT), then a given match offset should be reported only once. So if your new function is called naive_with_rc, then the old naivefunction and your new naive_with_rc function should return the same results when P equals its reverse complement.\n",
    "\n",
    "Hint: See this notebook for a few examples you can use to test your naive_with_rc function."
   ]
  },
  {
   "cell_type": "code",
   "execution_count": null,
   "id": "ac5c8750-a1e1-4c5c-9754-97d3f0edb9b5",
   "metadata": {},
   "outputs": [],
   "source": [
    "#implementation of the naive exact matching algorithm"
   ]
  },
  {
   "cell_type": "code",
   "execution_count": null,
   "id": "d1f7358a-746a-4696-82b5-209195ab5a44",
   "metadata": {},
   "outputs": [],
   "source": [
    "def naive(p, t):\n",
    "    occurrences = []\n",
    "    for i in range(len(t) - len(p) + 1):  # loop over alignments\n",
    "        match = True\n",
    "        for j in range(len(p)):  # loop over characters\n",
    "            if t[i+j] != p[j]:  # compare characters\n",
    "                match = False\n",
    "                break\n",
    "        if match:\n",
    "            occurrences.append(i)  # all chars matched; record\n",
    "    return occurrences"
   ]
  },
  {
   "cell_type": "code",
   "execution_count": null,
   "id": "6b723f8b-52ca-4a2c-80c2-c5c44733e745",
   "metadata": {},
   "outputs": [],
   "source": [
    "#a function that takes a DNA string and returns its reverse complement:"
   ]
  },
  {
   "cell_type": "code",
   "execution_count": null,
   "id": "3e63326a-62a0-4d82-a52a-ca30cbed6f89",
   "metadata": {},
   "outputs": [],
   "source": [
    "def reverseComplement(s):\n",
    "    complement = {'A': 'T', 'C': 'G', 'G': 'C', 'T': 'A', 'N': 'N'}\n",
    "    t = ''\n",
    "    for base in s:\n",
    "        t = complement[base] + t\n",
    "    return t\n"
   ]
  },
  {
   "cell_type": "code",
   "execution_count": null,
   "id": "62ad92f2-3772-4ae0-aa54-e2a4e21ac857",
   "metadata": {},
   "outputs": [],
   "source": [
    "#a function that parses a DNA reference genome from a file in the FASTA format"
   ]
  },
  {
   "cell_type": "code",
   "execution_count": null,
   "id": "0d18e956-3dfd-4ded-a2a0-c43e7c50339d",
   "metadata": {},
   "outputs": [],
   "source": [
    "def readGenome(filename):\n",
    "    genome = ''\n",
    "    with open(filename, 'r') as f:\n",
    "        for line in f:\n",
    "            # ignore header line with genome information\n",
    "            if not line[0] == '>':\n",
    "                genome += line.rstrip()\n",
    "    return genome\n"
   ]
  },
  {
   "cell_type": "code",
   "execution_count": null,
   "id": "f975e11c-f303-4bac-9970-19d7866409d1",
   "metadata": {},
   "outputs": [],
   "source": [
    "#a function that parses the read and quality strings from a FASTQ file containing sequencing reads"
   ]
  },
  {
   "cell_type": "code",
   "execution_count": null,
   "id": "72fd154f-a347-42ad-9827-ce7ea82843e9",
   "metadata": {},
   "outputs": [],
   "source": [
    "def readFastq(filename):\n",
    "    sequences = []\n",
    "    qualities = []\n",
    "    with open(filename) as fh:\n",
    "        while True:\n",
    "            fh.readline()  # skip name line\n",
    "            seq = fh.readline().rstrip()  # read base sequence\n",
    "            fh.readline()  # skip placeholder line\n",
    "            qual = fh.readline().rstrip() # base quality line\n",
    "            if len(seq) == 0:\n",
    "                break\n",
    "            sequences.append(seq)\n",
    "            qualities.append(qual)\n",
    "    return sequences, qualities\n"
   ]
  }
 ],
 "metadata": {
  "kernelspec": {
   "display_name": "Python 3 (ipykernel)",
   "language": "python",
   "name": "python3"
  },
  "language_info": {
   "codemirror_mode": {
    "name": "ipython",
    "version": 3
   },
   "file_extension": ".py",
   "mimetype": "text/x-python",
   "name": "python",
   "nbconvert_exporter": "python",
   "pygments_lexer": "ipython3",
   "version": "3.9.12"
  }
 },
 "nbformat": 4,
 "nbformat_minor": 5
}
